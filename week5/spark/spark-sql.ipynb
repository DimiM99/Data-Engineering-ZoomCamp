{
 "cells": [
  {
   "cell_type": "code",
   "execution_count": 1,
   "id": "initial_id",
   "metadata": {
    "collapsed": true,
    "ExecuteTime": {
     "end_time": "2024-03-01T12:48:06.726751Z",
     "start_time": "2024-03-01T12:48:04.285574Z"
    }
   },
   "outputs": [
    {
     "name": "stderr",
     "output_type": "stream",
     "text": [
      "24/03/01 13:48:05 WARN Utils: Your hostname, Dimis-MacBook-Pro-16.local resolves to a loopback address: 127.0.0.1; using 172.20.10.2 instead (on interface en0)\n",
      "24/03/01 13:48:05 WARN Utils: Set SPARK_LOCAL_IP if you need to bind to another address\n",
      "Setting default log level to \"WARN\".\n",
      "To adjust logging level use sc.setLogLevel(newLevel). For SparkR, use setLogLevel(newLevel).\n",
      "24/03/01 13:48:05 WARN NativeCodeLoader: Unable to load native-hadoop library for your platform... using builtin-java classes where applicable\n"
     ]
    }
   ],
   "source": [
    "from pyspark.sql import SparkSession\n",
    "\n",
    "spark = SparkSession.builder \\\n",
    "    .master(\"local[*]\") \\\n",
    "    .appName('test') \\\n",
    "    .getOrCreate()"
   ]
  },
  {
   "cell_type": "code",
   "outputs": [],
   "source": [
    "df_green = spark.read.parquet('data-dump/taxi/pq/green/*/*')"
   ],
   "metadata": {
    "collapsed": false,
    "ExecuteTime": {
     "end_time": "2024-03-01T12:49:16.023174Z",
     "start_time": "2024-03-01T12:49:14.002106Z"
    }
   },
   "id": "550778dee0df43d5",
   "execution_count": 2
  },
  {
   "cell_type": "code",
   "outputs": [],
   "source": [
    "df_yellow = spark.read.parquet('data-dump/taxi/pq/yellow/*/*')"
   ],
   "metadata": {
    "collapsed": false,
    "ExecuteTime": {
     "end_time": "2024-03-01T12:49:16.111689Z",
     "start_time": "2024-03-01T12:49:16.024165Z"
    }
   },
   "id": "d0a71c04db994f2",
   "execution_count": 3
  },
  {
   "cell_type": "code",
   "outputs": [],
   "source": [
    "df_green = df_green \\\n",
    "    .withColumnRenamed('lpep_pickup_datetime', 'pickup_datetime') \\\n",
    "    .withColumnRenamed('lpep_dropoff_datetime', 'dropoff_datetime')"
   ],
   "metadata": {
    "collapsed": false,
    "ExecuteTime": {
     "end_time": "2024-03-01T12:50:36.918919Z",
     "start_time": "2024-03-01T12:50:36.865875Z"
    }
   },
   "id": "6f9a3b2d0c7aff0a",
   "execution_count": 4
  },
  {
   "cell_type": "code",
   "outputs": [],
   "source": [
    "df_yellow = df_yellow \\\n",
    "    .withColumnRenamed('tpep_pickup_datetime', 'pickup_datetime') \\\n",
    "    .withColumnRenamed('tpep_dropoff_datetime', 'dropoff_datetime')"
   ],
   "metadata": {
    "collapsed": false,
    "ExecuteTime": {
     "end_time": "2024-03-01T12:50:38.385266Z",
     "start_time": "2024-03-01T12:50:38.355003Z"
    }
   },
   "id": "92d36e77a7f8f8ce",
   "execution_count": 5
  },
  {
   "cell_type": "code",
   "outputs": [],
   "source": [
    "common_columns = []\n",
    "\n",
    "yellow_columns = set(df_yellow.columns)\n",
    "\n",
    "for col in df_green.columns:\n",
    "    if col in yellow_columns:\n",
    "        common_columns.append(col)"
   ],
   "metadata": {
    "collapsed": false,
    "ExecuteTime": {
     "end_time": "2024-03-01T12:53:19.372517Z",
     "start_time": "2024-03-01T12:53:19.368325Z"
    }
   },
   "id": "22dd2b6a085f0a88",
   "execution_count": 6
  },
  {
   "cell_type": "code",
   "outputs": [],
   "source": [
    "from pyspark.sql import functions as F"
   ],
   "metadata": {
    "collapsed": false,
    "ExecuteTime": {
     "end_time": "2024-03-01T12:53:45.332479Z",
     "start_time": "2024-03-01T12:53:45.329843Z"
    }
   },
   "id": "a9d7747058eac7e1",
   "execution_count": 7
  },
  {
   "cell_type": "code",
   "outputs": [],
   "source": [
    "df_green_sel = df_green \\\n",
    "    .select(common_columns) \\\n",
    "    .withColumn('service_type', F.lit('green'))"
   ],
   "metadata": {
    "collapsed": false,
    "ExecuteTime": {
     "end_time": "2024-03-01T12:54:04.574077Z",
     "start_time": "2024-03-01T12:54:04.497476Z"
    }
   },
   "id": "690fd9d30e6ce6a9",
   "execution_count": 8
  },
  {
   "cell_type": "code",
   "outputs": [],
   "source": [
    "df_yellow_sel = df_yellow \\\n",
    "    .select(common_columns) \\\n",
    "    .withColumn('service_type', F.lit('yellow'))"
   ],
   "metadata": {
    "collapsed": false,
    "ExecuteTime": {
     "end_time": "2024-03-01T12:54:05.022154Z",
     "start_time": "2024-03-01T12:54:04.961359Z"
    }
   },
   "id": "a5f6647390f08170",
   "execution_count": 9
  },
  {
   "cell_type": "code",
   "outputs": [],
   "source": [
    "df_trips_data = df_green_sel.unionAll(df_yellow_sel)"
   ],
   "metadata": {
    "collapsed": false,
    "ExecuteTime": {
     "end_time": "2024-03-01T12:54:11.032880Z",
     "start_time": "2024-03-01T12:54:11.002675Z"
    }
   },
   "id": "6455ad7508e1c8f0",
   "execution_count": 10
  },
  {
   "cell_type": "code",
   "outputs": [
    {
     "name": "stderr",
     "output_type": "stream",
     "text": [
      "                                                                                \r"
     ]
    },
    {
     "name": "stdout",
     "output_type": "stream",
     "text": [
      "+------------+--------+\n",
      "|service_type|   count|\n",
      "+------------+--------+\n",
      "|       green| 2304517|\n",
      "|      yellow|39649199|\n",
      "+------------+--------+\n"
     ]
    }
   ],
   "source": [
    "df_trips_data.groupBy('service_type').count().show()"
   ],
   "metadata": {
    "collapsed": false,
    "ExecuteTime": {
     "end_time": "2024-03-01T12:54:20.523593Z",
     "start_time": "2024-03-01T12:54:17.779065Z"
    }
   },
   "id": "face4212902e19c",
   "execution_count": 11
  },
  {
   "cell_type": "code",
   "outputs": [],
   "source": [
    "df_trips_data.createOrReplaceTempView('trips_data')"
   ],
   "metadata": {
    "collapsed": false,
    "ExecuteTime": {
     "end_time": "2024-03-01T13:02:46.797097Z",
     "start_time": "2024-03-01T13:02:46.783939Z"
    }
   },
   "id": "115deb1971783467",
   "execution_count": 14
  },
  {
   "cell_type": "code",
   "outputs": [
    {
     "name": "stdout",
     "output_type": "stream",
     "text": [
      "+------------+--------+\n",
      "|service_type|count(1)|\n",
      "+------------+--------+\n",
      "|       green| 2304517|\n",
      "|      yellow|39649199|\n",
      "+------------+--------+\n"
     ]
    },
    {
     "name": "stderr",
     "output_type": "stream",
     "text": [
      "                                                                                \r"
     ]
    }
   ],
   "source": [
    "spark.sql(\"\"\"\n",
    "SELECT\n",
    "    service_type,\n",
    "    count(1)\n",
    "FROM\n",
    "    trips_data\n",
    "GROUP BY \n",
    "    service_type\n",
    "\"\"\").show()"
   ],
   "metadata": {
    "collapsed": false,
    "ExecuteTime": {
     "end_time": "2024-03-01T13:02:55.874322Z",
     "start_time": "2024-03-01T13:02:55.072375Z"
    }
   },
   "id": "97f8af2e9c5ac724",
   "execution_count": 15
  },
  {
   "cell_type": "code",
   "outputs": [],
   "source": [
    "df_result = spark.sql(\"\"\"\n",
    "SELECT \n",
    "    -- Reveneue grouping \n",
    "    PULocationID AS revenue_zone,\n",
    "    date_trunc('month', pickup_datetime) AS revenue_month, \n",
    "    service_type, \n",
    "\n",
    "    -- Revenue calculation \n",
    "    SUM(fare_amount) AS revenue_monthly_fare,\n",
    "    SUM(extra) AS revenue_monthly_extra,\n",
    "    SUM(mta_tax) AS revenue_monthly_mta_tax,\n",
    "    SUM(tip_amount) AS revenue_monthly_tip_amount,\n",
    "    SUM(tolls_amount) AS revenue_monthly_tolls_amount,\n",
    "    SUM(improvement_surcharge) AS revenue_monthly_improvement_surcharge,\n",
    "    SUM(total_amount) AS revenue_monthly_total_amount,\n",
    "    SUM(congestion_surcharge) AS revenue_monthly_congestion_surcharge,\n",
    "\n",
    "    -- Additional calculations\n",
    "    AVG(passenger_count) AS avg_montly_passenger_count,\n",
    "    AVG(trip_distance) AS avg_montly_trip_distance\n",
    "FROM\n",
    "    trips_data\n",
    "GROUP BY\n",
    "    1, 2, 3\n",
    "\"\"\")"
   ],
   "metadata": {
    "collapsed": false,
    "ExecuteTime": {
     "end_time": "2024-03-01T13:03:16.006996Z",
     "start_time": "2024-03-01T13:03:15.953875Z"
    }
   },
   "id": "1c5b26fc44bd718c",
   "execution_count": 16
  },
  {
   "cell_type": "code",
   "outputs": [
    {
     "name": "stderr",
     "output_type": "stream",
     "text": [
      "                                                                                \r"
     ]
    }
   ],
   "source": [
    "df_result.coalesce(1).write.parquet('data-dump/taxi/report/revenue/', mode='overwrite')"
   ],
   "metadata": {
    "collapsed": false,
    "ExecuteTime": {
     "end_time": "2024-03-01T13:03:54.557696Z",
     "start_time": "2024-03-01T13:03:48.702388Z"
    }
   },
   "id": "781ee8d83cce3fc0",
   "execution_count": 17
  },
  {
   "cell_type": "code",
   "outputs": [
    {
     "name": "stderr",
     "output_type": "stream",
     "text": [
      "[Stage 11:=====================================================>  (21 + 1) / 22]\r"
     ]
    },
    {
     "name": "stdout",
     "output_type": "stream",
     "text": [
      "+------------+-------------------+------------+--------------------+---------------------+-----------------------+--------------------------+----------------------------+-------------------------------------+----------------------------+------------------------------------+--------------------------+------------------------+\n",
      "|revenue_zone|      revenue_month|service_type|revenue_monthly_fare|revenue_monthly_extra|revenue_monthly_mta_tax|revenue_monthly_tip_amount|revenue_monthly_tolls_amount|revenue_monthly_improvement_surcharge|revenue_monthly_total_amount|revenue_monthly_congestion_surcharge|avg_montly_passenger_count|avg_montly_trip_distance|\n",
      "+------------+-------------------+------------+--------------------+---------------------+-----------------------+--------------------------+----------------------------+-------------------------------------+----------------------------+------------------------------------+--------------------------+------------------------+\n",
      "|         127|2020-02-01 00:00:00|       green|  21571.680000000004|               890.75|                  495.0|        1050.5200000000004|          488.80000000000024|                   345.00000000000375|          25119.149999999838|                               264.0|        1.1945837512537614|       4.583894472361811|\n",
      "|           9|2020-02-01 00:00:00|       green|   7251.639999999996|               643.25|                   25.0|         7.720000000000001|          183.20000000000002|                     77.9999999999998|           8193.510000000002|                                2.75|        1.1219512195121952|      445.80187969924816|\n",
      "|          47|2020-01-01 00:00:00|       green|  16630.150000000034|               1192.0|                  160.0|        42.230000000000004|           523.0000000000003|                   210.90000000000228|           18770.42999999991|                                11.0|         1.177685950413223|      4.6450000000000005|\n",
      "|         180|2020-02-01 00:00:00|       green|  2817.1500000000005|                178.0|                   15.0|                     12.52|                       37.47|                    30.00000000000003|          3090.1399999999994|                                 0.0|        1.0606060606060606|                  5.7353|\n",
      "|          53|2020-01-01 00:00:00|       green|   6281.649999999992|               330.25|                   49.0|         39.21999999999999|          102.50000000000001|                    68.39999999999971|           6873.770000000006|                                2.75|        1.2417582417582418|       6.929710743801653|\n",
      "|         128|2020-01-01 00:00:00|       green|  3261.3300000000004|                158.0|                   35.5|                     82.25|          104.04000000000002|                    34.50000000000003|           3714.020000000003|                                27.5|        1.0169491525423728|      7.0232800000000015|\n",
      "|         150|2020-01-01 00:00:00|       green|   9996.160000000005|                627.5|                   98.0|         97.86999999999999|          149.14000000000004|                   109.49999999999932|          11082.069999999976|                                 0.0|        1.1147540983606556|       5.393588516746412|\n",
      "|         263|2020-01-01 00:00:00|       green|   8987.339999999997|                561.0|                 124.55|        315.27000000000004|           335.0600000000002|                   127.19999999999915|           10684.16999999999|                              239.25|        1.4293478260869565|       5.264249422632796|\n",
      "|          19|2020-01-01 00:00:00|       green|   7798.880000000002|                377.0|                   42.0|                      6.66|          174.40000000000006|                    67.49999999999972|           8466.440000000008|                                 0.0|                  1.046875|      7.8507818930041156|\n",
      "|          81|2020-02-01 00:00:00|       green|            17340.13|               1127.5|                  110.5|                     20.75|           991.5900000000004|                    149.3999999999993|          19743.770000000008|                                 0.0|        1.2653061224489797|       8.627810760667908|\n",
      "|          22|2020-02-01 00:00:00|       green|  17398.530000000035|               1148.5|                   99.5|                      74.4|           478.5700000000002|                   164.99999999999915|          19367.249999999978|                                2.75|        1.1590909090909092|       6.001778523489934|\n",
      "|          40|2020-02-01 00:00:00|       green|  21840.030000000013|                896.5|                  831.0|        3179.4299999999985|           397.8000000000002|                    517.8000000000083|            28638.2599999998|                              967.75|        1.2492456246228123|      2.8544061962134255|\n",
      "|          37|2020-02-01 00:00:00|       green|   23375.71000000003|              1982.75|                  229.0|        428.94999999999993|           527.5100000000002|                   284.10000000000207|          26942.419999999976|                              104.25|        1.2318059299191375|      4.4949211045364885|\n",
      "|         186|2020-01-01 00:00:00|       green|  1539.2300000000002|                85.25|                    6.0|                       0.0|           97.92000000000002|                   13.800000000000011|                      1742.2|                                 0.0|        1.6666666666666667|       9.389565217391304|\n",
      "|          71|2020-02-01 00:00:00|       green|   26571.90000000008|               2603.5|                  195.0|                     30.23|          465.54000000000025|                   308.40000000000254|          30183.969999999925|                                 5.5|                    1.1875|       4.293813708260105|\n",
      "|          38|2020-02-01 00:00:00|       green|   8637.039999999994|               605.75|                   34.0|                       5.0|          165.24000000000004|                    77.39999999999984|           9526.380000000003|                                 0.0|        1.2173913043478262|        8.01901098901099|\n",
      "|         216|2020-02-01 00:00:00|       green|   19758.42000000001|               1245.0|                  110.0|        102.96000000000001|           424.2500000000002|                   195.29999999999953|          21843.379999999954|                                 5.5|        1.1793893129770991|       6.703884785819797|\n",
      "|         238|2020-01-01 00:00:00|       green|   5397.990000000001|                403.5|                   20.0|                       0.0|          124.68000000000002|                   61.199999999999775|           6007.370000000002|                                 0.0|                       1.2|       6.460536585365854|\n",
      "|         126|2020-01-01 00:00:00|       green|  11827.840000000017|               766.75|                  110.5|        101.86999999999999|           458.2800000000002|                    145.1999999999998|          13425.339999999993|                                11.0|                     1.275|       5.187806691449814|\n",
      "|         192|2020-02-01 00:00:00|       green|   6302.809999999999|               376.75|                   44.5|                    353.89|                       54.13|                    71.69999999999989|           7220.180000000004|                                2.75|        1.2681159420289856|       5.143769230769229|\n",
      "+------------+-------------------+------------+--------------------+---------------------+-----------------------+--------------------------+----------------------------+-------------------------------------+----------------------------+------------------------------------+--------------------------+------------------------+\n"
     ]
    },
    {
     "name": "stderr",
     "output_type": "stream",
     "text": [
      "                                                                                \r"
     ]
    }
   ],
   "source": [
    "df_result.show()"
   ],
   "metadata": {
    "collapsed": false,
    "ExecuteTime": {
     "end_time": "2024-03-01T13:04:04.833636Z",
     "start_time": "2024-03-01T13:04:01.068089Z"
    }
   },
   "id": "662994a4710fd113",
   "execution_count": 18
  },
  {
   "cell_type": "code",
   "outputs": [],
   "source": [],
   "metadata": {
    "collapsed": false
   },
   "id": "c0f33be36286525f"
  }
 ],
 "metadata": {
  "kernelspec": {
   "display_name": "Python 3",
   "language": "python",
   "name": "python3"
  },
  "language_info": {
   "codemirror_mode": {
    "name": "ipython",
    "version": 2
   },
   "file_extension": ".py",
   "mimetype": "text/x-python",
   "name": "python",
   "nbconvert_exporter": "python",
   "pygments_lexer": "ipython2",
   "version": "2.7.6"
  }
 },
 "nbformat": 4,
 "nbformat_minor": 5
}
