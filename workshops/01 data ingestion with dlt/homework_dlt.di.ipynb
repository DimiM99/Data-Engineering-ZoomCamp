{
 "nbformat": 4,
 "nbformat_minor": 0,
 "metadata": {
  "colab": {
   "provenance": []
  },
  "kernelspec": {
   "name": "python3",
   "language": "python",
   "display_name": "Python 3 (ipykernel)"
  },
  "language_info": {
   "name": "python"
  }
 },
 "cells": [
  {
   "cell_type": "markdown",
   "source": [
    "# **Homework**: Data talks club data engineering zoomcamp Data loading workshop\n",
    "\n",
    "Hello folks, let's practice what we learned - Loading data with the best practices of data engineering.\n",
    "\n",
    "Here are the exercises we will do\n",
    "\n",
    "\n"
   ],
   "metadata": {
    "id": "mrTFv5nPClXh"
   }
  },
  {
   "cell_type": "markdown",
   "source": [
    "# 1. Use a generator\n",
    "\n",
    "Remember the concept of generator? Let's practice using them to futher our understanding of how they work.\n",
    "\n",
    "Let's define a generator and then run it as practice.\n",
    "\n",
    "**Answer the following questions:**\n",
    "\n",
    "- **Question 1: What is the sum of the outputs of the generator for limit = 5?**\n",
    "- **Question 2: What is the 13th number yielded**\n",
    "\n",
    "I suggest practicing these questions without GPT as the purpose is to further your learning."
   ],
   "metadata": {
    "id": "wLF4iXf-NR7t"
   }
  },
  {
   "cell_type": "code",
   "source": [
    "def square_root_generator(limit):\n",
    "    n = 1\n",
    "    while n <= limit:\n",
    "        yield n ** 0.5\n",
    "        n += 1\n",
    "\n",
    "# Example usage:\n",
    "limit = 5\n",
    "generator = square_root_generator(limit)\n",
    "\n",
    "for sqrt_value in generator:\n",
    "    print(sqrt_value)\n"
   ],
   "metadata": {
    "colab": {
     "base_uri": "https://localhost:8080/"
    },
    "id": "wLng-bDJN4jf",
    "outputId": "547683cb-5f56-4815-a903-d0d9578eb1f9",
    "ExecuteTime": {
     "end_time": "2024-02-10T20:31:07.573331Z",
     "start_time": "2024-02-10T20:31:07.550498Z"
    }
   },
   "execution_count": 25,
   "outputs": [
    {
     "name": "stdout",
     "output_type": "stream",
     "text": [
      "1.0\n",
      "1.4142135623730951\n",
      "1.7320508075688772\n",
      "2.0\n",
      "2.23606797749979\n"
     ]
    }
   ]
  },
  {
   "cell_type": "markdown",
   "source": [],
   "metadata": {
    "id": "xbe3q55zN43j"
   }
  },
  {
   "cell_type": "markdown",
   "source": [
    "# 2. Append a generator to a table with existing data\n",
    "\n",
    "\n",
    "Below you have 2 generators. You will be tasked to load them to duckdb and answer some questions from the data\n",
    "\n",
    "1. Load the first generator and calculate the sum of ages of all people. Make sure to only load it once.\n",
    "2. Append the second generator to the same table as the first.\n",
    "3. **After correctly appending the data, calculate the sum of all ages of people.**\n",
    "\n",
    "\n"
   ],
   "metadata": {
    "id": "vjWhILzGJMpK"
   }
  },
  {
   "cell_type": "code",
   "execution_count": 26,
   "metadata": {
    "colab": {
     "base_uri": "https://localhost:8080/"
    },
    "id": "2MoaQcdLBEk6",
    "outputId": "d2b93dc1-d83f-44ea-aeff-fdf51d75f7aa",
    "ExecuteTime": {
     "end_time": "2024-02-10T20:31:07.574706Z",
     "start_time": "2024-02-10T20:31:07.562860Z"
    }
   },
   "outputs": [
    {
     "name": "stdout",
     "output_type": "stream",
     "text": [
      "{'ID': 1, 'Name': 'Person_1', 'Age': 26, 'City': 'City_A'}\n",
      "{'ID': 2, 'Name': 'Person_2', 'Age': 27, 'City': 'City_A'}\n",
      "{'ID': 3, 'Name': 'Person_3', 'Age': 28, 'City': 'City_A'}\n",
      "{'ID': 4, 'Name': 'Person_4', 'Age': 29, 'City': 'City_A'}\n",
      "{'ID': 5, 'Name': 'Person_5', 'Age': 30, 'City': 'City_A'}\n",
      "{'ID': 3, 'Name': 'Person_3', 'Age': 33, 'City': 'City_B', 'Occupation': 'Job_3'}\n",
      "{'ID': 4, 'Name': 'Person_4', 'Age': 34, 'City': 'City_B', 'Occupation': 'Job_4'}\n",
      "{'ID': 5, 'Name': 'Person_5', 'Age': 35, 'City': 'City_B', 'Occupation': 'Job_5'}\n",
      "{'ID': 6, 'Name': 'Person_6', 'Age': 36, 'City': 'City_B', 'Occupation': 'Job_6'}\n",
      "{'ID': 7, 'Name': 'Person_7', 'Age': 37, 'City': 'City_B', 'Occupation': 'Job_7'}\n",
      "{'ID': 8, 'Name': 'Person_8', 'Age': 38, 'City': 'City_B', 'Occupation': 'Job_8'}\n"
     ]
    }
   ],
   "source": [
    "def people_1():\n",
    "    for i in range(1, 6):\n",
    "        yield {\"ID\": i, \"Name\": f\"Person_{i}\", \"Age\": 25 + i, \"City\": \"City_A\"}\n",
    "\n",
    "for person in people_1():\n",
    "    print(person)\n",
    "\n",
    "\n",
    "def people_2():\n",
    "    for i in range(3, 9):\n",
    "        yield {\"ID\": i, \"Name\": f\"Person_{i}\", \"Age\": 30 + i, \"City\": \"City_B\", \"Occupation\": f\"Job_{i}\"}\n",
    "\n",
    "\n",
    "for person in people_2():\n",
    "    print(person)\n"
   ]
  },
  {
   "cell_type": "markdown",
   "source": [],
   "metadata": {
    "id": "vtdTIm4fvQCN"
   }
  },
  {
   "cell_type": "markdown",
   "source": [
    "# 3. Merge a generator\n",
    "\n",
    "Re-use the generators from Exercise 2.\n",
    "\n",
    "A table's primary key needs to be created from the start, so load your data to a new table with primary key ID.\n",
    "\n",
    "Load your first generator first, and then load the second one with merge. Since they have overlapping IDs, some of the records from the first load should be replaced by the ones from the second load.\n",
    "\n",
    "After loading, you should have a total of 8 records, and ID 3 should have age 33.\n",
    "\n",
    "Question: **Calculate the sum of ages of all the people loaded as described above.**\n"
   ],
   "metadata": {
    "id": "pY4cFAWOSwN1"
   }
  },
  {
   "cell_type": "markdown",
   "source": [
    "# Solution: First make sure that the following modules are installed:"
   ],
   "metadata": {
    "id": "kKB2GTB9oVjr"
   }
  },
  {
   "cell_type": "code",
   "source": [
    "#Install the dependencies\n",
    "!pip install \"dlt[duckdb]\""
   ],
   "metadata": {
    "id": "xTVvtyqrfVNq",
    "ExecuteTime": {
     "end_time": "2024-02-10T20:31:08.741580Z",
     "start_time": "2024-02-10T20:31:07.577357Z"
    }
   },
   "execution_count": 27,
   "outputs": [
    {
     "name": "stdout",
     "output_type": "stream",
     "text": [
      "Requirement already satisfied: dlt[duckdb] in /Users/dimi/Developer/Tooling/miniconda3/envs/DE-ZoomCamp/lib/python3.10/site-packages (0.4.3)\r\n",
      "Requirement already satisfied: PyYAML>=5.4.1 in /Users/dimi/Developer/Tooling/miniconda3/envs/DE-ZoomCamp/lib/python3.10/site-packages (from dlt[duckdb]) (6.0.1)\r\n",
      "Requirement already satisfied: SQLAlchemy>=1.4.0 in /Users/dimi/Developer/Tooling/miniconda3/envs/DE-ZoomCamp/lib/python3.10/site-packages (from dlt[duckdb]) (1.4.51)\r\n",
      "Requirement already satisfied: astunparse>=1.6.3 in /Users/dimi/Developer/Tooling/miniconda3/envs/DE-ZoomCamp/lib/python3.10/site-packages (from dlt[duckdb]) (1.6.3)\r\n",
      "Requirement already satisfied: click>=7.1 in /Users/dimi/Developer/Tooling/miniconda3/envs/DE-ZoomCamp/lib/python3.10/site-packages (from dlt[duckdb]) (8.1.7)\r\n",
      "Requirement already satisfied: fsspec>=2022.4.0 in /Users/dimi/Developer/Tooling/miniconda3/envs/DE-ZoomCamp/lib/python3.10/site-packages (from dlt[duckdb]) (2024.2.0)\r\n",
      "Requirement already satisfied: gitpython>=3.1.29 in /Users/dimi/Developer/Tooling/miniconda3/envs/DE-ZoomCamp/lib/python3.10/site-packages (from dlt[duckdb]) (3.1.41)\r\n",
      "Requirement already satisfied: giturlparse>=0.10.0 in /Users/dimi/Developer/Tooling/miniconda3/envs/DE-ZoomCamp/lib/python3.10/site-packages (from dlt[duckdb]) (0.12.0)\r\n",
      "Requirement already satisfied: hexbytes>=0.2.2 in /Users/dimi/Developer/Tooling/miniconda3/envs/DE-ZoomCamp/lib/python3.10/site-packages (from dlt[duckdb]) (1.0.0)\r\n",
      "Requirement already satisfied: humanize>=4.4.0 in /Users/dimi/Developer/Tooling/miniconda3/envs/DE-ZoomCamp/lib/python3.10/site-packages (from dlt[duckdb]) (4.9.0)\r\n",
      "Requirement already satisfied: jsonpath-ng>=1.5.3 in /Users/dimi/Developer/Tooling/miniconda3/envs/DE-ZoomCamp/lib/python3.10/site-packages (from dlt[duckdb]) (1.6.1)\r\n",
      "Requirement already satisfied: makefun>=1.15.0 in /Users/dimi/Developer/Tooling/miniconda3/envs/DE-ZoomCamp/lib/python3.10/site-packages (from dlt[duckdb]) (1.15.2)\r\n",
      "Requirement already satisfied: orjson>=3.6.7 in /Users/dimi/Developer/Tooling/miniconda3/envs/DE-ZoomCamp/lib/python3.10/site-packages (from dlt[duckdb]) (3.9.13)\r\n",
      "Requirement already satisfied: packaging>=21.1 in /Users/dimi/Developer/Tooling/miniconda3/envs/DE-ZoomCamp/lib/python3.10/site-packages (from dlt[duckdb]) (23.1)\r\n",
      "Requirement already satisfied: pathvalidate>=2.5.2 in /Users/dimi/Developer/Tooling/miniconda3/envs/DE-ZoomCamp/lib/python3.10/site-packages (from dlt[duckdb]) (3.2.0)\r\n",
      "Requirement already satisfied: pendulum>=2.1.2 in /Users/dimi/Developer/Tooling/miniconda3/envs/DE-ZoomCamp/lib/python3.10/site-packages (from dlt[duckdb]) (3.0.0)\r\n",
      "Requirement already satisfied: pytz>=2022.6 in /Users/dimi/Developer/Tooling/miniconda3/envs/DE-ZoomCamp/lib/python3.10/site-packages (from dlt[duckdb]) (2024.1)\r\n",
      "Requirement already satisfied: requests>=2.26.0 in /Users/dimi/Developer/Tooling/miniconda3/envs/DE-ZoomCamp/lib/python3.10/site-packages (from dlt[duckdb]) (2.31.0)\r\n",
      "Requirement already satisfied: requirements-parser>=0.5.0 in /Users/dimi/Developer/Tooling/miniconda3/envs/DE-ZoomCamp/lib/python3.10/site-packages (from dlt[duckdb]) (0.5.0)\r\n",
      "Requirement already satisfied: semver>=2.13.0 in /Users/dimi/Developer/Tooling/miniconda3/envs/DE-ZoomCamp/lib/python3.10/site-packages (from dlt[duckdb]) (3.0.2)\r\n",
      "Requirement already satisfied: setuptools>=65.6.0 in /Users/dimi/Developer/Tooling/miniconda3/envs/DE-ZoomCamp/lib/python3.10/site-packages (from dlt[duckdb]) (68.2.2)\r\n",
      "Requirement already satisfied: simplejson>=3.17.5 in /Users/dimi/Developer/Tooling/miniconda3/envs/DE-ZoomCamp/lib/python3.10/site-packages (from dlt[duckdb]) (3.19.2)\r\n",
      "Requirement already satisfied: tenacity>=8.0.2 in /Users/dimi/Developer/Tooling/miniconda3/envs/DE-ZoomCamp/lib/python3.10/site-packages (from dlt[duckdb]) (8.2.3)\r\n",
      "Requirement already satisfied: tomlkit>=0.11.3 in /Users/dimi/Developer/Tooling/miniconda3/envs/DE-ZoomCamp/lib/python3.10/site-packages (from dlt[duckdb]) (0.12.3)\r\n",
      "Requirement already satisfied: typing-extensions>=4.0.0 in /Users/dimi/Developer/Tooling/miniconda3/envs/DE-ZoomCamp/lib/python3.10/site-packages (from dlt[duckdb]) (4.5.0)\r\n",
      "Requirement already satisfied: tzdata>=2022.1 in /Users/dimi/Developer/Tooling/miniconda3/envs/DE-ZoomCamp/lib/python3.10/site-packages (from dlt[duckdb]) (2023.3)\r\n",
      "Requirement already satisfied: duckdb<0.10.0,>=0.6.1 in /Users/dimi/Developer/Tooling/miniconda3/envs/DE-ZoomCamp/lib/python3.10/site-packages (from dlt[duckdb]) (0.9.2)\r\n",
      "Requirement already satisfied: wheel<1.0,>=0.23.0 in /Users/dimi/Developer/Tooling/miniconda3/envs/DE-ZoomCamp/lib/python3.10/site-packages (from astunparse>=1.6.3->dlt[duckdb]) (0.41.2)\r\n",
      "Requirement already satisfied: six<2.0,>=1.6.1 in /Users/dimi/Developer/Tooling/miniconda3/envs/DE-ZoomCamp/lib/python3.10/site-packages (from astunparse>=1.6.3->dlt[duckdb]) (1.16.0)\r\n",
      "Requirement already satisfied: gitdb<5,>=4.0.1 in /Users/dimi/Developer/Tooling/miniconda3/envs/DE-ZoomCamp/lib/python3.10/site-packages (from gitpython>=3.1.29->dlt[duckdb]) (4.0.11)\r\n",
      "Requirement already satisfied: ply in /Users/dimi/Developer/Tooling/miniconda3/envs/DE-ZoomCamp/lib/python3.10/site-packages (from jsonpath-ng>=1.5.3->dlt[duckdb]) (3.11)\r\n",
      "Requirement already satisfied: python-dateutil>=2.6 in /Users/dimi/Developer/Tooling/miniconda3/envs/DE-ZoomCamp/lib/python3.10/site-packages (from pendulum>=2.1.2->dlt[duckdb]) (2.8.2)\r\n",
      "Requirement already satisfied: time-machine>=2.6.0 in /Users/dimi/Developer/Tooling/miniconda3/envs/DE-ZoomCamp/lib/python3.10/site-packages (from pendulum>=2.1.2->dlt[duckdb]) (2.13.0)\r\n",
      "Requirement already satisfied: charset-normalizer<4,>=2 in /Users/dimi/Developer/Tooling/miniconda3/envs/DE-ZoomCamp/lib/python3.10/site-packages (from requests>=2.26.0->dlt[duckdb]) (2.0.4)\r\n",
      "Requirement already satisfied: idna<4,>=2.5 in /Users/dimi/Developer/Tooling/miniconda3/envs/DE-ZoomCamp/lib/python3.10/site-packages (from requests>=2.26.0->dlt[duckdb]) (3.4)\r\n",
      "Requirement already satisfied: urllib3<3,>=1.21.1 in /Users/dimi/Developer/Tooling/miniconda3/envs/DE-ZoomCamp/lib/python3.10/site-packages (from requests>=2.26.0->dlt[duckdb]) (1.26.18)\r\n",
      "Requirement already satisfied: certifi>=2017.4.17 in /Users/dimi/Developer/Tooling/miniconda3/envs/DE-ZoomCamp/lib/python3.10/site-packages (from requests>=2.26.0->dlt[duckdb]) (2024.2.2)\r\n",
      "Requirement already satisfied: types-setuptools>=57.0.0 in /Users/dimi/Developer/Tooling/miniconda3/envs/DE-ZoomCamp/lib/python3.10/site-packages (from requirements-parser>=0.5.0->dlt[duckdb]) (69.0.0.20240125)\r\n",
      "Requirement already satisfied: smmap<6,>=3.0.1 in /Users/dimi/Developer/Tooling/miniconda3/envs/DE-ZoomCamp/lib/python3.10/site-packages (from gitdb<5,>=4.0.1->gitpython>=3.1.29->dlt[duckdb]) (5.0.1)\r\n"
     ]
    }
   ]
  },
  {
   "cell_type": "markdown",
   "source": [
    "### Question 1: What is the sum of the outputs of the generator for limit = 5?"
   ],
   "metadata": {
    "collapsed": false
   }
  },
  {
   "cell_type": "code",
   "outputs": [
    {
     "name": "stdout",
     "output_type": "stream",
     "text": [
      "8.382332347441762\n"
     ]
    }
   ],
   "source": [
    "sum_gen = sum(square_root_generator(5))\n",
    "print(sum_gen)"
   ],
   "metadata": {
    "collapsed": false,
    "ExecuteTime": {
     "end_time": "2024-02-10T20:31:08.745802Z",
     "start_time": "2024-02-10T20:31:08.742459Z"
    }
   },
   "execution_count": 28
  },
  {
   "cell_type": "markdown",
   "source": [
    "### Question 2: What is the 13th number yielded by the generator?"
   ],
   "metadata": {
    "collapsed": false
   }
  },
  {
   "cell_type": "code",
   "outputs": [
    {
     "name": "stdout",
     "output_type": "stream",
     "text": [
      "3.605551275463989\n"
     ]
    }
   ],
   "source": [
    "gen13 = square_root_generator(13)\n",
    "index = 0\n",
    "for item in gen13:\n",
    "    index += 1\n",
    "    if index == 13:\n",
    "        print(item)"
   ],
   "metadata": {
    "collapsed": false,
    "ExecuteTime": {
     "end_time": "2024-02-10T20:31:08.750055Z",
     "start_time": "2024-02-10T20:31:08.746459Z"
    }
   },
   "execution_count": 29
  },
  {
   "cell_type": "markdown",
   "source": [
    "### Question 3: Append the 2 generators. After correctly appending the data, calculate the sum of all ages of people."
   ],
   "metadata": {
    "collapsed": false
   }
  },
  {
   "cell_type": "code",
   "outputs": [
    {
     "name": "stdout",
     "output_type": "stream",
     "text": [
      "Pipeline dlt_ipykernel_launcher load step completed in 0.13 seconds\n",
      "1 load package(s) were loaded to destination duckdb and into dataset people\n",
      "The duckdb destination used duckdb:////Users/dimi/Developer/Code/Data Science/Data Engineering ZoomCamp/workshops/01 data ingestion with dlt/dlt_ipykernel_launcher.duckdb location to store data\n",
      "Load package 1707597068.7743511 is LOADED and contains no failed jobs\n",
      "--\n",
      "Pipeline dlt_ipykernel_launcher load step completed in 0.15 seconds\n",
      "1 load package(s) were loaded to destination duckdb and into dataset people\n",
      "The duckdb destination used duckdb:////Users/dimi/Developer/Code/Data Science/Data Engineering ZoomCamp/workshops/01 data ingestion with dlt/dlt_ipykernel_launcher.duckdb location to store data\n",
      "Load package 1707597069.251689 is LOADED and contains no failed jobs\n",
      "--\n",
      "Loaded Table:\n"
     ]
    },
    {
     "data": {
      "text/plain": "    id      name  age    city        _dlt_load_id         _dlt_id occupation\n0    1  Person_1   26  City_A  1707597068.7743511  JgWDJDrbak3tJA       None\n1    2  Person_2   27  City_A  1707597068.7743511  Y7jQkcRwnSLQkg       None\n2    3  Person_3   28  City_A  1707597068.7743511  Ps+AJE46lo6lzg       None\n3    4  Person_4   29  City_A  1707597068.7743511  B2MotKswlptYYQ       None\n4    5  Person_5   30  City_A  1707597068.7743511  5cYLoxuxXLCX3Q       None\n5    3  Person_3   33  City_B   1707597069.251689  taBSOSLLTfBDXQ      Job_3\n6    4  Person_4   34  City_B   1707597069.251689  TdnzMlVwWo7yRg      Job_4\n7    5  Person_5   35  City_B   1707597069.251689  sktelTmt9PzcZw      Job_5\n8    6  Person_6   36  City_B   1707597069.251689  LVJKE3RCMKSERA      Job_6\n9    7  Person_7   37  City_B   1707597069.251689  BGUzEat8kU4L2A      Job_7\n10   8  Person_8   38  City_B   1707597069.251689  alvMgplEfqL2vg      Job_8",
      "text/html": "<div>\n<style scoped>\n    .dataframe tbody tr th:only-of-type {\n        vertical-align: middle;\n    }\n\n    .dataframe tbody tr th {\n        vertical-align: top;\n    }\n\n    .dataframe thead th {\n        text-align: right;\n    }\n</style>\n<table border=\"1\" class=\"dataframe\">\n  <thead>\n    <tr style=\"text-align: right;\">\n      <th></th>\n      <th>id</th>\n      <th>name</th>\n      <th>age</th>\n      <th>city</th>\n      <th>_dlt_load_id</th>\n      <th>_dlt_id</th>\n      <th>occupation</th>\n    </tr>\n  </thead>\n  <tbody>\n    <tr>\n      <th>0</th>\n      <td>1</td>\n      <td>Person_1</td>\n      <td>26</td>\n      <td>City_A</td>\n      <td>1707597068.7743511</td>\n      <td>JgWDJDrbak3tJA</td>\n      <td>None</td>\n    </tr>\n    <tr>\n      <th>1</th>\n      <td>2</td>\n      <td>Person_2</td>\n      <td>27</td>\n      <td>City_A</td>\n      <td>1707597068.7743511</td>\n      <td>Y7jQkcRwnSLQkg</td>\n      <td>None</td>\n    </tr>\n    <tr>\n      <th>2</th>\n      <td>3</td>\n      <td>Person_3</td>\n      <td>28</td>\n      <td>City_A</td>\n      <td>1707597068.7743511</td>\n      <td>Ps+AJE46lo6lzg</td>\n      <td>None</td>\n    </tr>\n    <tr>\n      <th>3</th>\n      <td>4</td>\n      <td>Person_4</td>\n      <td>29</td>\n      <td>City_A</td>\n      <td>1707597068.7743511</td>\n      <td>B2MotKswlptYYQ</td>\n      <td>None</td>\n    </tr>\n    <tr>\n      <th>4</th>\n      <td>5</td>\n      <td>Person_5</td>\n      <td>30</td>\n      <td>City_A</td>\n      <td>1707597068.7743511</td>\n      <td>5cYLoxuxXLCX3Q</td>\n      <td>None</td>\n    </tr>\n    <tr>\n      <th>5</th>\n      <td>3</td>\n      <td>Person_3</td>\n      <td>33</td>\n      <td>City_B</td>\n      <td>1707597069.251689</td>\n      <td>taBSOSLLTfBDXQ</td>\n      <td>Job_3</td>\n    </tr>\n    <tr>\n      <th>6</th>\n      <td>4</td>\n      <td>Person_4</td>\n      <td>34</td>\n      <td>City_B</td>\n      <td>1707597069.251689</td>\n      <td>TdnzMlVwWo7yRg</td>\n      <td>Job_4</td>\n    </tr>\n    <tr>\n      <th>7</th>\n      <td>5</td>\n      <td>Person_5</td>\n      <td>35</td>\n      <td>City_B</td>\n      <td>1707597069.251689</td>\n      <td>sktelTmt9PzcZw</td>\n      <td>Job_5</td>\n    </tr>\n    <tr>\n      <th>8</th>\n      <td>6</td>\n      <td>Person_6</td>\n      <td>36</td>\n      <td>City_B</td>\n      <td>1707597069.251689</td>\n      <td>LVJKE3RCMKSERA</td>\n      <td>Job_6</td>\n    </tr>\n    <tr>\n      <th>9</th>\n      <td>7</td>\n      <td>Person_7</td>\n      <td>37</td>\n      <td>City_B</td>\n      <td>1707597069.251689</td>\n      <td>BGUzEat8kU4L2A</td>\n      <td>Job_7</td>\n    </tr>\n    <tr>\n      <th>10</th>\n      <td>8</td>\n      <td>Person_8</td>\n      <td>38</td>\n      <td>City_B</td>\n      <td>1707597069.251689</td>\n      <td>alvMgplEfqL2vg</td>\n      <td>Job_8</td>\n    </tr>\n  </tbody>\n</table>\n</div>"
     },
     "metadata": {},
     "output_type": "display_data"
    },
    {
     "name": "stdout",
     "output_type": "stream",
     "text": [
      "Sum of ages of all people after appending the 2nd generator:\n"
     ]
    },
    {
     "data": {
      "text/plain": "   sum(Age)\n0     353.0",
      "text/html": "<div>\n<style scoped>\n    .dataframe tbody tr th:only-of-type {\n        vertical-align: middle;\n    }\n\n    .dataframe tbody tr th {\n        vertical-align: top;\n    }\n\n    .dataframe thead th {\n        text-align: right;\n    }\n</style>\n<table border=\"1\" class=\"dataframe\">\n  <thead>\n    <tr style=\"text-align: right;\">\n      <th></th>\n      <th>sum(Age)</th>\n    </tr>\n  </thead>\n  <tbody>\n    <tr>\n      <th>0</th>\n      <td>353.0</td>\n    </tr>\n  </tbody>\n</table>\n</div>"
     },
     "metadata": {},
     "output_type": "display_data"
    }
   ],
   "source": [
    "import duckdb\n",
    "import dlt\n",
    "\n",
    "# Define the generators\n",
    "generator1 = people_1()\n",
    "generator2 = people_2()\n",
    "\n",
    "# Create a pipeline to load the data\n",
    "generator_pipelines = dlt.pipeline(\n",
    "    destination='duckdb',\n",
    "    dataset_name='people',\n",
    ")\n",
    "\n",
    "# define the connection to the database\n",
    "connection = duckdb.connect(f'{generator_pipelines.pipeline_name}.duckdb')\n",
    "\n",
    "# Load the first generator\n",
    "run1 = generator_pipelines.run(\n",
    "    data=generator1,\n",
    "    table_name='people',\n",
    "    write_disposition='replace'\n",
    ")\n",
    "\n",
    "# Load the second generator\n",
    "run2 = generator_pipelines.run(\n",
    "    data=generator2,\n",
    "    table_name='people',\n",
    "    write_disposition='append'\n",
    ")\n",
    "\n",
    "# check the statuses\n",
    "print(run1)\n",
    "print('--')\n",
    "print(run2)\n",
    "\n",
    "# take a look at the data\n",
    "print('--')\n",
    "print('Loaded Table:')\n",
    "tables = connection.sql('SELECT * FROM people.people').df()\n",
    "display(tables)\n",
    "\n",
    "# ages of all people\n",
    "print('Sum of ages of all people after appending the 2nd generator:')\n",
    "ages = connection.sql('SELECT SUM(Age) FROM people.people').df()\n",
    "display(ages)\n"
   ],
   "metadata": {
    "collapsed": false,
    "ExecuteTime": {
     "end_time": "2024-02-10T20:31:09.755788Z",
     "start_time": "2024-02-10T20:31:08.754051Z"
    }
   },
   "execution_count": 30
  },
  {
   "cell_type": "markdown",
   "source": [
    "### Question 4: Merge the 2 generators using the ID column. Calculate the sum of ages of all the people loaded as described above."
   ],
   "metadata": {
    "collapsed": false
   }
  },
  {
   "cell_type": "code",
   "outputs": [
    {
     "name": "stdout",
     "output_type": "stream",
     "text": [
      "Pipeline dlt_ipykernel_launcher load step completed in 0.13 seconds\n",
      "1 load package(s) were loaded to destination duckdb and into dataset people\n",
      "The duckdb destination used duckdb:////Users/dimi/Developer/Code/Data Science/Data Engineering ZoomCamp/workshops/01 data ingestion with dlt/dlt_ipykernel_launcher.duckdb location to store data\n",
      "Load package 1707597069.779829 is LOADED and contains no failed jobs\n",
      "--\n",
      "Pipeline dlt_ipykernel_launcher load step completed in 0.27 seconds\n",
      "1 load package(s) were loaded to destination duckdb and into dataset people\n",
      "The duckdb destination used duckdb:////Users/dimi/Developer/Code/Data Science/Data Engineering ZoomCamp/workshops/01 data ingestion with dlt/dlt_ipykernel_launcher.duckdb location to store data\n",
      "Load package 1707597070.2653718 is LOADED and contains no failed jobs\n",
      "--\n",
      "Loaded Table:\n"
     ]
    },
    {
     "data": {
      "text/plain": "   id      name  age    city        _dlt_load_id         _dlt_id occupation\n0   1  Person_1   26  City_A   1707597069.779829  iv1HntwmuAVLGA       None\n1   2  Person_2   27  City_A   1707597069.779829  rahpM+fVZcSt0Q       None\n2   5  Person_5   35  City_B  1707597070.2653718  gRuqAemqtEYDLA      Job_5\n3   3  Person_3   33  City_B  1707597070.2653718  VzUpmzbt+nOHmg      Job_3\n4   6  Person_6   36  City_B  1707597070.2653718  NM060CaBQfT27Q      Job_6\n5   8  Person_8   38  City_B  1707597070.2653718  zYv8SpvFaN+RJA      Job_8\n6   4  Person_4   34  City_B  1707597070.2653718  QTge6DDhnI6PWw      Job_4\n7   7  Person_7   37  City_B  1707597070.2653718  x7ftXBCyMUTB1Q      Job_7",
      "text/html": "<div>\n<style scoped>\n    .dataframe tbody tr th:only-of-type {\n        vertical-align: middle;\n    }\n\n    .dataframe tbody tr th {\n        vertical-align: top;\n    }\n\n    .dataframe thead th {\n        text-align: right;\n    }\n</style>\n<table border=\"1\" class=\"dataframe\">\n  <thead>\n    <tr style=\"text-align: right;\">\n      <th></th>\n      <th>id</th>\n      <th>name</th>\n      <th>age</th>\n      <th>city</th>\n      <th>_dlt_load_id</th>\n      <th>_dlt_id</th>\n      <th>occupation</th>\n    </tr>\n  </thead>\n  <tbody>\n    <tr>\n      <th>0</th>\n      <td>1</td>\n      <td>Person_1</td>\n      <td>26</td>\n      <td>City_A</td>\n      <td>1707597069.779829</td>\n      <td>iv1HntwmuAVLGA</td>\n      <td>None</td>\n    </tr>\n    <tr>\n      <th>1</th>\n      <td>2</td>\n      <td>Person_2</td>\n      <td>27</td>\n      <td>City_A</td>\n      <td>1707597069.779829</td>\n      <td>rahpM+fVZcSt0Q</td>\n      <td>None</td>\n    </tr>\n    <tr>\n      <th>2</th>\n      <td>5</td>\n      <td>Person_5</td>\n      <td>35</td>\n      <td>City_B</td>\n      <td>1707597070.2653718</td>\n      <td>gRuqAemqtEYDLA</td>\n      <td>Job_5</td>\n    </tr>\n    <tr>\n      <th>3</th>\n      <td>3</td>\n      <td>Person_3</td>\n      <td>33</td>\n      <td>City_B</td>\n      <td>1707597070.2653718</td>\n      <td>VzUpmzbt+nOHmg</td>\n      <td>Job_3</td>\n    </tr>\n    <tr>\n      <th>4</th>\n      <td>6</td>\n      <td>Person_6</td>\n      <td>36</td>\n      <td>City_B</td>\n      <td>1707597070.2653718</td>\n      <td>NM060CaBQfT27Q</td>\n      <td>Job_6</td>\n    </tr>\n    <tr>\n      <th>5</th>\n      <td>8</td>\n      <td>Person_8</td>\n      <td>38</td>\n      <td>City_B</td>\n      <td>1707597070.2653718</td>\n      <td>zYv8SpvFaN+RJA</td>\n      <td>Job_8</td>\n    </tr>\n    <tr>\n      <th>6</th>\n      <td>4</td>\n      <td>Person_4</td>\n      <td>34</td>\n      <td>City_B</td>\n      <td>1707597070.2653718</td>\n      <td>QTge6DDhnI6PWw</td>\n      <td>Job_4</td>\n    </tr>\n    <tr>\n      <th>7</th>\n      <td>7</td>\n      <td>Person_7</td>\n      <td>37</td>\n      <td>City_B</td>\n      <td>1707597070.2653718</td>\n      <td>x7ftXBCyMUTB1Q</td>\n      <td>Job_7</td>\n    </tr>\n  </tbody>\n</table>\n</div>"
     },
     "metadata": {},
     "output_type": "display_data"
    },
    {
     "name": "stdout",
     "output_type": "stream",
     "text": [
      "Sum of ages of all people after merging the 1st and 2nd generator:\n"
     ]
    },
    {
     "data": {
      "text/plain": "   sum(Age)\n0     266.0",
      "text/html": "<div>\n<style scoped>\n    .dataframe tbody tr th:only-of-type {\n        vertical-align: middle;\n    }\n\n    .dataframe tbody tr th {\n        vertical-align: top;\n    }\n\n    .dataframe thead th {\n        text-align: right;\n    }\n</style>\n<table border=\"1\" class=\"dataframe\">\n  <thead>\n    <tr style=\"text-align: right;\">\n      <th></th>\n      <th>sum(Age)</th>\n    </tr>\n  </thead>\n  <tbody>\n    <tr>\n      <th>0</th>\n      <td>266.0</td>\n    </tr>\n  </tbody>\n</table>\n</div>"
     },
     "metadata": {},
     "output_type": "display_data"
    }
   ],
   "source": [
    "import duckdb\n",
    "import dlt\n",
    "\n",
    "# Define the generators\n",
    "generator1 = people_1()\n",
    "generator2 = people_2()\n",
    "\n",
    "# Create a pipeline to load the data\n",
    "generator_pipelines = dlt.pipeline(\n",
    "    destination='duckdb',\n",
    "    dataset_name='people',\n",
    ")\n",
    "\n",
    "# define the connection to the database\n",
    "connection = duckdb.connect(f'{generator_pipelines.pipeline_name}.duckdb')\n",
    "\n",
    "# Load the first generator\n",
    "run1 = generator_pipelines.run(\n",
    "    data=generator1,\n",
    "    table_name='people',\n",
    "    write_disposition='replace'\n",
    ")\n",
    "\n",
    "\n",
    "## find out what this shit does\n",
    "connection.sql(f'SET search_path = {generator_pipelines.pipeline_name}')\n",
    "\n",
    "# Load the second generator\n",
    "run2 = generator_pipelines.run(\n",
    "    data=generator2,\n",
    "    table_name='people',\n",
    "    write_disposition='merge',\n",
    "    primary_key='id'\n",
    ")\n",
    "\n",
    "# check the statuses\n",
    "print(run1)\n",
    "print('--')\n",
    "print(run2)\n",
    "\n",
    "# take a look at the data\n",
    "print('--')\n",
    "print('Loaded Table:')\n",
    "tables = connection.sql('SELECT * FROM people.people').df()\n",
    "display(tables)\n",
    "\n",
    "# ages of all people\n",
    "print('Sum of ages of all people after merging the 1st and 2nd generator:')\n",
    "ages = connection.sql('SELECT SUM(Age) FROM people.people').df()\n",
    "display(ages)"
   ],
   "metadata": {
    "collapsed": false,
    "ExecuteTime": {
     "end_time": "2024-02-10T20:31:10.888088Z",
     "start_time": "2024-02-10T20:31:09.758078Z"
    }
   },
   "execution_count": 31
  }
 ]
}
